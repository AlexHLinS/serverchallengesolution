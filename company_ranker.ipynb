{
 "cells": [
  {
   "cell_type": "code",
   "execution_count": 1,
   "id": "9cc99e4b",
   "metadata": {},
   "outputs": [],
   "source": [
    "import numpy as np\n",
    "import pandas as pd\n",
    "import re\n",
    "from transliterate import translit\n",
    "import lightgbm as lgb\n",
    "from sklearn.model_selection import train_test_split\n",
    "\n",
    "pd.options.display.float_format = '{:.1f}'.format\n",
    "pd.set_option('display.max_columns', None)"
   ]
  },
  {
   "cell_type": "markdown",
   "id": "2951b00c",
   "metadata": {},
   "source": [
    "### Читаем таблицу за 2019 год, фильтруем столбцы, которые мы можем взять из налоговой \n",
    "Количество столбцов можно расширить"
   ]
  },
  {
   "cell_type": "code",
   "execution_count": 2,
   "id": "17965cf3",
   "metadata": {},
   "outputs": [
    {
     "data": {
      "text/html": [
       "<div>\n",
       "<style scoped>\n",
       "    .dataframe tbody tr th:only-of-type {\n",
       "        vertical-align: middle;\n",
       "    }\n",
       "\n",
       "    .dataframe tbody tr th {\n",
       "        vertical-align: top;\n",
       "    }\n",
       "\n",
       "    .dataframe thead th {\n",
       "        text-align: right;\n",
       "    }\n",
       "</style>\n",
       "<table border=\"1\" class=\"dataframe\">\n",
       "  <thead>\n",
       "    <tr style=\"text-align: right;\">\n",
       "      <th></th>\n",
       "      <th>pdz</th>\n",
       "      <th>a</th>\n",
       "      <th>b</th>\n",
       "      <th>c</th>\n",
       "    </tr>\n",
       "    <tr>\n",
       "      <th>Unnamed: 0</th>\n",
       "      <th></th>\n",
       "      <th></th>\n",
       "      <th></th>\n",
       "      <th></th>\n",
       "    </tr>\n",
       "  </thead>\n",
       "  <tbody>\n",
       "    <tr>\n",
       "      <th>0</th>\n",
       "      <td>0.0</td>\n",
       "      <td>629400000.0</td>\n",
       "      <td>746182802.5</td>\n",
       "      <td>871619108.3</td>\n",
       "    </tr>\n",
       "    <tr>\n",
       "      <th>1</th>\n",
       "      <td>0.0</td>\n",
       "      <td>1345859.9</td>\n",
       "      <td>44800636.9</td>\n",
       "      <td>51357324.8</td>\n",
       "    </tr>\n",
       "    <tr>\n",
       "      <th>2</th>\n",
       "      <td>5.5</td>\n",
       "      <td>19644586.0</td>\n",
       "      <td>85529936.3</td>\n",
       "      <td>-92989808.9</td>\n",
       "    </tr>\n",
       "    <tr>\n",
       "      <th>3</th>\n",
       "      <td>0.0</td>\n",
       "      <td>20382165.6</td>\n",
       "      <td>6840634394.9</td>\n",
       "      <td>7869977070.1</td>\n",
       "    </tr>\n",
       "    <tr>\n",
       "      <th>4</th>\n",
       "      <td>2.0</td>\n",
       "      <td>595541.4</td>\n",
       "      <td>45936061783.4</td>\n",
       "      <td>53075239490.4</td>\n",
       "    </tr>\n",
       "    <tr>\n",
       "      <th>...</th>\n",
       "      <td>...</td>\n",
       "      <td>...</td>\n",
       "      <td>...</td>\n",
       "      <td>...</td>\n",
       "    </tr>\n",
       "    <tr>\n",
       "      <th>526</th>\n",
       "      <td>0.0</td>\n",
       "      <td>6369.4</td>\n",
       "      <td>6176433.1</td>\n",
       "      <td>6782165.6</td>\n",
       "    </tr>\n",
       "    <tr>\n",
       "      <th>527</th>\n",
       "      <td>0.0</td>\n",
       "      <td>240643312.1</td>\n",
       "      <td>80433758.0</td>\n",
       "      <td>64995541.4</td>\n",
       "    </tr>\n",
       "    <tr>\n",
       "      <th>528</th>\n",
       "      <td>0.0</td>\n",
       "      <td>0.0</td>\n",
       "      <td>0.0</td>\n",
       "      <td>0.0</td>\n",
       "    </tr>\n",
       "    <tr>\n",
       "      <th>529</th>\n",
       "      <td>0.0</td>\n",
       "      <td>7006.4</td>\n",
       "      <td>172095541.4</td>\n",
       "      <td>205289808.9</td>\n",
       "    </tr>\n",
       "    <tr>\n",
       "      <th>530</th>\n",
       "      <td>0.0</td>\n",
       "      <td>6369.4</td>\n",
       "      <td>1076433.1</td>\n",
       "      <td>1359235.7</td>\n",
       "    </tr>\n",
       "  </tbody>\n",
       "</table>\n",
       "<p>531 rows × 4 columns</p>\n",
       "</div>"
      ],
      "text/plain": [
       "            pdz           a             b             c\n",
       "Unnamed: 0                                             \n",
       "0           0.0 629400000.0   746182802.5   871619108.3\n",
       "1           0.0   1345859.9    44800636.9    51357324.8\n",
       "2           5.5  19644586.0    85529936.3   -92989808.9\n",
       "3           0.0  20382165.6  6840634394.9  7869977070.1\n",
       "4           2.0    595541.4 45936061783.4 53075239490.4\n",
       "...         ...         ...           ...           ...\n",
       "526         0.0      6369.4     6176433.1     6782165.6\n",
       "527         0.0 240643312.1    80433758.0    64995541.4\n",
       "528         0.0         0.0           0.0           0.0\n",
       "529         0.0      7006.4   172095541.4   205289808.9\n",
       "530         0.0      6369.4     1076433.1     1359235.7\n",
       "\n",
       "[531 rows x 4 columns]"
      ]
     },
     "metadata": {},
     "output_type": "display_data"
    }
   ],
   "source": [
    "#2019\n",
    "df_2019 = pd.read_csv('agents2019.csv', index_col = 'Unnamed: 0')\n",
    "\n",
    "renamed_headers = [translit(x,'ru', reversed=True) for x in df_2019.columns]\n",
    "ren = dict(zip(df_2019.columns, renamed_headers))\n",
    "df_2019.rename(columns=ren, inplace=True)\n",
    "df_2019.rename(columns=lambda x: x.replace('.', ''), inplace=True)\n",
    "df_2019.rename(columns = lambda x:re.sub('[^A-Za-z0-9_]+', '', x), inplace=True)\n",
    "\n",
    "df_2019 = df_2019[\n",
    "    [\"SredPDZza2019goddnej\", \n",
    "     \"2018UstavnyjkapitalRUB\", \n",
    "     \"2018PribylubytokdonalogooblozhenijaRUB\",\n",
    "    \"2018PribylubytokotprodazhiRUB\"]]\n",
    "\n",
    "df_2019.rename(columns={'SredPDZza2019goddnej': 'pdz', \n",
    "                         '2018UstavnyjkapitalRUB': 'a',\n",
    "                        '2018PribylubytokdonalogooblozhenijaRUB': 'b',\n",
    "                        '2018PribylubytokotprodazhiRUB': 'c',}, inplace=True)\n",
    "\n",
    "\n",
    "display(df_2019)"
   ]
  },
  {
   "cell_type": "markdown",
   "id": "ca27e126",
   "metadata": {},
   "source": [
    "### Обучаем lgbm для предсказания скора поставщика. В качестве скора сейчас берем средний ПДЗ"
   ]
  },
  {
   "cell_type": "code",
   "execution_count": 3,
   "id": "f6cac8c7",
   "metadata": {},
   "outputs": [
    {
     "name": "stdout",
     "output_type": "stream",
     "text": [
      "[LightGBM] [Warning] Auto-choosing col-wise multi-threading, the overhead of testing was 0.000098 seconds.\n",
      "You can set `force_col_wise=true` to remove the overhead.\n",
      "Training until validation scores don't improve for 20 rounds\n",
      "Early stopping, best iteration is:\n",
      "[18]\tvalid_0's l1: 12.2963\tvalid_0's l2: 2831.37\n"
     ]
    }
   ],
   "source": [
    "X = df_2019.drop(['pdz'], axis=1)\n",
    "y = df_2019['pdz']\n",
    "\n",
    "X_train, X_test, y_train, y_test = train_test_split(X, y, test_size=0.25, random_state=42)\n",
    "\n",
    "lgb_train = lgb.Dataset(X_train, y_train)\n",
    "lgb_eval = lgb.Dataset(X_test, y_test, reference=lgb_train)\n",
    "\n",
    "# specify your configurations as a dict\n",
    "params = {\n",
    "    'boosting_type': 'gbdt',\n",
    "    'objective': 'regression',\n",
    "    'metric': {'l2', 'l1'},\n",
    "    'num_leaves': 10,\n",
    "    'learning_rate': 0.05,\n",
    "    'feature_fraction': 0.8,\n",
    "    'bagging_fraction': 0.7,\n",
    "    'bagging_freq': 5,\n",
    "    'verbose': 0\n",
    "}\n",
    "\n",
    "gbm = lgb.train(params,\n",
    "                lgb_train,\n",
    "                num_boost_round=2000,\n",
    "                valid_sets=lgb_eval,\n",
    "                callbacks=[lgb.early_stopping(stopping_rounds=20)])\n"
   ]
  },
  {
   "cell_type": "markdown",
   "id": "e8d3b587",
   "metadata": {},
   "source": [
    "### Сохраняем LGBM модель"
   ]
  },
  {
   "cell_type": "code",
   "execution_count": 4,
   "id": "94fc17ed",
   "metadata": {},
   "outputs": [
    {
     "data": {
      "text/plain": [
       "<lightgbm.basic.Booster at 0x1c361fcd250>"
      ]
     },
     "execution_count": 4,
     "metadata": {},
     "output_type": "execute_result"
    }
   ],
   "source": [
    "gbm.save_model('ranker.1txt')"
   ]
  },
  {
   "cell_type": "markdown",
   "id": "211c750e",
   "metadata": {},
   "source": [
    "### Используем модель для ранжирования"
   ]
  },
  {
   "cell_type": "code",
   "execution_count": 5,
   "id": "7151dd94",
   "metadata": {},
   "outputs": [
    {
     "name": "stdout",
     "output_type": "stream",
     "text": [
      "                      a               b             c  pdz\n",
      "Unnamed: 0                                                \n",
      "89              12738.9     123889808.9   275915923.6  3.7\n",
      "502              6369.4     143459872.6   217403184.7  3.7\n",
      "72              50955.4      30266242.0    90570700.6  4.1\n",
      "376        1687910828.0      36182802.5   233578980.9  4.1\n",
      "15            3143312.1      42890445.9   129052229.3  4.2\n",
      "...                 ...             ...           ...  ...\n",
      "167        1913510828.0    -167102547.8    -2213375.8 15.6\n",
      "78          185414012.7    -222906369.4   105183439.5 15.6\n",
      "361          98254140.1    -711054140.1  -545214012.7 15.6\n",
      "360          63694267.5     -41189808.9   -79257324.8 15.6\n",
      "195         229988535.0 -131630508280.3 76496135668.8 16.4\n",
      "\n",
      "[133 rows x 4 columns]\n"
     ]
    }
   ],
   "source": [
    "def rank_companies(pd):\n",
    "    # As input we shoud get pandas table \n",
    "    # with columns 'a', 'b', 'c',\n",
    "    # which are \"Ustavnyj kapital\", \"Pribyl ubytok do nalogooblozhenija\",\" Pribyl ubytok ot prodazhi\"\n",
    "    import lightgbm as lgb\n",
    "    gbm = lgb.Booster(model_file='ranker.1txt')\n",
    "    y_pred = gbm.predict(pd, num_iteration=gbm.best_iteration)\n",
    "    pd['pdz'] = y_pred\n",
    "    pd.sort_values('pdz', inplace=True)\n",
    "    \n",
    "    return pd\n",
    "\n",
    "\n",
    "test_table = X_test.copy()\n",
    "\n",
    "ranked_table = rank_companies(test_table)\n",
    "print(ranked_table)"
   ]
  },
  {
   "cell_type": "code",
   "execution_count": null,
   "id": "ebce8d40",
   "metadata": {},
   "outputs": [],
   "source": []
  }
 ],
 "metadata": {
  "kernelspec": {
   "display_name": "Python 3 (ipykernel)",
   "language": "python",
   "name": "python3"
  },
  "language_info": {
   "codemirror_mode": {
    "name": "ipython",
    "version": 3
   },
   "file_extension": ".py",
   "mimetype": "text/x-python",
   "name": "python",
   "nbconvert_exporter": "python",
   "pygments_lexer": "ipython3",
   "version": "3.9.0"
  }
 },
 "nbformat": 4,
 "nbformat_minor": 5
}
