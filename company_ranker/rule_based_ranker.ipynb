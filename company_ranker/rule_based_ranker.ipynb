{
 "cells": [
  {
   "cell_type": "code",
   "execution_count": 17,
   "id": "141c16ce",
   "metadata": {},
   "outputs": [
    {
     "name": "stdout",
     "output_type": "stream",
     "text": [
      "Rule based score (from 0 to 1, more is better)\n"
     ]
    },
    {
     "data": {
      "text/html": [
       "<div>\n",
       "<style scoped>\n",
       "    .dataframe tbody tr th:only-of-type {\n",
       "        vertical-align: middle;\n",
       "    }\n",
       "\n",
       "    .dataframe tbody tr th {\n",
       "        vertical-align: top;\n",
       "    }\n",
       "\n",
       "    .dataframe thead th {\n",
       "        text-align: right;\n",
       "    }\n",
       "</style>\n",
       "<table border=\"1\" class=\"dataframe\">\n",
       "  <thead>\n",
       "    <tr style=\"text-align: right;\">\n",
       "      <th></th>\n",
       "      <th>lifetime</th>\n",
       "      <th>staff</th>\n",
       "      <th>capital</th>\n",
       "      <th>rb_score</th>\n",
       "    </tr>\n",
       "  </thead>\n",
       "  <tbody>\n",
       "    <tr>\n",
       "      <th>0</th>\n",
       "      <td>1</td>\n",
       "      <td>2</td>\n",
       "      <td>10000</td>\n",
       "      <td>0.050684</td>\n",
       "    </tr>\n",
       "    <tr>\n",
       "      <th>1</th>\n",
       "      <td>2</td>\n",
       "      <td>10</td>\n",
       "      <td>100000</td>\n",
       "      <td>0.077316</td>\n",
       "    </tr>\n",
       "    <tr>\n",
       "      <th>2</th>\n",
       "      <td>12</td>\n",
       "      <td>20</td>\n",
       "      <td>1000000</td>\n",
       "      <td>0.362770</td>\n",
       "    </tr>\n",
       "    <tr>\n",
       "      <th>3</th>\n",
       "      <td>30</td>\n",
       "      <td>50</td>\n",
       "      <td>10000000</td>\n",
       "      <td>0.751418</td>\n",
       "    </tr>\n",
       "  </tbody>\n",
       "</table>\n",
       "</div>"
      ],
      "text/plain": [
       "   lifetime  staff   capital  rb_score\n",
       "0         1      2     10000  0.050684\n",
       "1         2     10    100000  0.077316\n",
       "2        12     20   1000000  0.362770\n",
       "3        30     50  10000000  0.751418"
      ]
     },
     "metadata": {},
     "output_type": "display_data"
    }
   ],
   "source": [
    "from math import exp\n",
    "import numpy as np\n",
    "import pandas as pd\n",
    "\n",
    "# Функции вычисления нормированного скора в зависимости от параметров компании, результат от 0 до 1\n",
    "def calc_lifetime_coef(years):\n",
    "    return 1/(1+3*exp(3-years))    \n",
    "def calc_staff_coef(staff):\n",
    "    return 1/(1+20*exp(-staff/20))\n",
    "def calc_capital_score(capital):\n",
    "    return 1/(1+1000*exp(-4-capital/500000))\n",
    "\n",
    "\n",
    "df = [[1, 2, 10000], \n",
    "      [2, 10, 100000],\n",
    "      [12, 20, 1000000],\n",
    "      [30, 50, 10000000]\n",
    "     ]\n",
    "df = pd.DataFrame(df, columns = ['lifetime', 'staff', 'capital'])\n",
    "\n",
    "\n",
    "# Результаирующий скор с вкладом каждой из функций\n",
    "def calc_rule_based_score_df(df):\n",
    "    \"\"\"\n",
    "    Input pandas table should contain columns 'lifetime', 'staff', 'capital'\n",
    "    \"\"\"\n",
    "    res = df.copy()\n",
    "    res['rb_score'] = res['lifetime'].apply(lambda x: calc_lifetime_coef(x) * 0.2) + \\\n",
    "        res['staff'].apply(lambda x : calc_staff_coef(x) * 0.4) + \\\n",
    "        res['capital'].apply(lambda x : calc_capital_score(x) * 0.4)\n",
    "    return res\n",
    "\n",
    "\n",
    "\n",
    "tmp =  calc_rule_based_score_df(df)\n",
    "print('Rule based score (from 0 to 1, more is better)')\n",
    "display(tmp)\n"
   ]
  },
  {
   "cell_type": "code",
   "execution_count": null,
   "id": "554edc31",
   "metadata": {},
   "outputs": [],
   "source": []
  }
 ],
 "metadata": {
  "kernelspec": {
   "display_name": "Python 3 (ipykernel)",
   "language": "python",
   "name": "python3"
  },
  "language_info": {
   "codemirror_mode": {
    "name": "ipython",
    "version": 3
   },
   "file_extension": ".py",
   "mimetype": "text/x-python",
   "name": "python",
   "nbconvert_exporter": "python",
   "pygments_lexer": "ipython3",
   "version": "3.9.0"
  }
 },
 "nbformat": 4,
 "nbformat_minor": 5
}
