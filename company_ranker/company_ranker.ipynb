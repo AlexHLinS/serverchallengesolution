{
 "cells": [
  {
   "cell_type": "code",
   "execution_count": 1,
   "id": "9cc99e4b",
   "metadata": {},
   "outputs": [],
   "source": [
    "import numpy as np\n",
    "import pandas as pd\n",
    "import re\n",
    "from transliterate import translit\n",
    "import lightgbm as lgb\n",
    "from sklearn.model_selection import train_test_split\n",
    "\n",
    "pd.options.display.float_format = '{:.1f}'.format\n",
    "pd.set_option('display.max_columns', None)"
   ]
  },
  {
   "cell_type": "markdown",
   "id": "2951b00c",
   "metadata": {},
   "source": [
    "### Читаем таблицу за 2019 год, фильтруем столбцы, которые мы можем взять из налоговой \n",
    "Количество столбцов можно расширить"
   ]
  },
  {
   "cell_type": "code",
   "execution_count": 5,
   "id": "04164e07",
   "metadata": {},
   "outputs": [
    {
     "name": "stdout",
     "output_type": "stream",
     "text": [
      "Index(['Наименование ДП', 'Макс. ПДЗ за 2019 год, дней',\n",
      "       'Сред. ПДЗ за 2019 год, дней',\n",
      "       'Кол-во просрочек свыше 5-ти дней за 2019 год, шт.',\n",
      "       'Общая сумма ПДЗ свыше 5-ти дней за 2019 год, руб.',\n",
      "       'Кол-во раз ПДЗ за 2019 год, шт.', '2016, Нематериальные активы, RUB',\n",
      "       '2017, Нематериальные активы, RUB', '2018, Нематериальные активы, RUB',\n",
      "       '2016, Основные средства , RUB', '2017, Основные средства , RUB',\n",
      "       '2018, Основные средства , RUB', '2016, Внеоборотные активы, RUB',\n",
      "       '2017, Внеоборотные активы, RUB', '2018, Внеоборотные активы, RUB',\n",
      "       '2016, Дебиторская задолженность, RUB',\n",
      "       '2017, Дебиторская задолженность, RUB',\n",
      "       '2018, Дебиторская задолженность, RUB', '2016, Оборотные активы, RUB',\n",
      "       '2017, Оборотные активы, RUB', '2018, Оборотные активы, RUB',\n",
      "       '2016, Уставный капитал , RUB', '2017, Уставный капитал , RUB',\n",
      "       '2018, Уставный капитал , RUB', '2016, Капитал и резервы, RUB',\n",
      "       '2017, Капитал и резервы, RUB', '2018, Капитал и резервы, RUB',\n",
      "       '2016, Заёмные средства (долгосрочные), RUB',\n",
      "       '2017, Заёмные средства (долгосрочные), RUB',\n",
      "       '2018, Заёмные средства (долгосрочные), RUB',\n",
      "       '2016, Долгосрочные обязательства, RUB',\n",
      "       '2017, Долгосрочные обязательства, RUB',\n",
      "       '2018, Долгосрочные обязательства, RUB',\n",
      "       '2016, Заёмные средства (краткосрочные), RUB',\n",
      "       '2017, Заёмные средства (краткосрочные), RUB',\n",
      "       '2018, Заёмные средства (краткосрочные), RUB',\n",
      "       '2016, Кредиторская задолженность, RUB',\n",
      "       '2017, Кредиторская задолженность, RUB',\n",
      "       '2018, Кредиторская задолженность, RUB',\n",
      "       '2016, Краткосрочные обязательства, RUB',\n",
      "       '2017, Краткосрочные обязательства, RUB',\n",
      "       '2018, Краткосрочные обязательства, RUB', '2016, Выручка, RUB',\n",
      "       '2017, Выручка, RUB', '2018, Выручка, RUB',\n",
      "       '2016, Себестоимость продаж, RUB', '2017, Себестоимость продаж, RUB',\n",
      "       '2018, Себестоимость продаж, RUB',\n",
      "       '2016, Прибыль (убыток) до налогообложения , RUB',\n",
      "       '2017, Прибыль (убыток) до налогообложения , RUB',\n",
      "       '2018, Прибыль (убыток) до налогообложения , RUB',\n",
      "       '2016, Прибыль (убыток) от продажи, RUB',\n",
      "       '2017, Прибыль (убыток) от продажи, RUB',\n",
      "       '2018, Прибыль (убыток) от продажи, RUB'],\n",
      "      dtype='object')\n"
     ]
    }
   ],
   "source": [
    "#2019\n",
    "df_2019 = pd.read_csv('agents2019.csv', index_col = 'Unnamed: 0')\n",
    "\n",
    "\n",
    "print(df_2019.columns)"
   ]
  },
  {
   "cell_type": "code",
   "execution_count": 6,
   "id": "17965cf3",
   "metadata": {},
   "outputs": [
    {
     "data": {
      "text/html": [
       "<div>\n",
       "<style scoped>\n",
       "    .dataframe tbody tr th:only-of-type {\n",
       "        vertical-align: middle;\n",
       "    }\n",
       "\n",
       "    .dataframe tbody tr th {\n",
       "        vertical-align: top;\n",
       "    }\n",
       "\n",
       "    .dataframe thead th {\n",
       "        text-align: right;\n",
       "    }\n",
       "</style>\n",
       "<table border=\"1\" class=\"dataframe\">\n",
       "  <thead>\n",
       "    <tr style=\"text-align: right;\">\n",
       "      <th></th>\n",
       "      <th>ml_score</th>\n",
       "      <th>capital</th>\n",
       "      <th>income</th>\n",
       "      <th>outcome</th>\n",
       "    </tr>\n",
       "    <tr>\n",
       "      <th>Unnamed: 0</th>\n",
       "      <th></th>\n",
       "      <th></th>\n",
       "      <th></th>\n",
       "      <th></th>\n",
       "    </tr>\n",
       "  </thead>\n",
       "  <tbody>\n",
       "    <tr>\n",
       "      <th>0</th>\n",
       "      <td>0.0</td>\n",
       "      <td>629400000.0</td>\n",
       "      <td>3475461146.5</td>\n",
       "      <td>5476906369.4</td>\n",
       "    </tr>\n",
       "    <tr>\n",
       "      <th>1</th>\n",
       "      <td>0.0</td>\n",
       "      <td>1345859.9</td>\n",
       "      <td>156347770.7</td>\n",
       "      <td>66164968.2</td>\n",
       "    </tr>\n",
       "    <tr>\n",
       "      <th>2</th>\n",
       "      <td>5.5</td>\n",
       "      <td>19644586.0</td>\n",
       "      <td>228049681.5</td>\n",
       "      <td>123771337.6</td>\n",
       "    </tr>\n",
       "    <tr>\n",
       "      <th>3</th>\n",
       "      <td>0.0</td>\n",
       "      <td>20382165.6</td>\n",
       "      <td>5362189808.9</td>\n",
       "      <td>2522167515.9</td>\n",
       "    </tr>\n",
       "    <tr>\n",
       "      <th>4</th>\n",
       "      <td>2.0</td>\n",
       "      <td>595541.4</td>\n",
       "      <td>11246701273.9</td>\n",
       "      <td>3855060509.6</td>\n",
       "    </tr>\n",
       "    <tr>\n",
       "      <th>...</th>\n",
       "      <td>...</td>\n",
       "      <td>...</td>\n",
       "      <td>...</td>\n",
       "      <td>...</td>\n",
       "    </tr>\n",
       "    <tr>\n",
       "      <th>526</th>\n",
       "      <td>0.0</td>\n",
       "      <td>6369.4</td>\n",
       "      <td>25662420.4</td>\n",
       "      <td>49657961.8</td>\n",
       "    </tr>\n",
       "    <tr>\n",
       "      <th>527</th>\n",
       "      <td>0.0</td>\n",
       "      <td>240643312.1</td>\n",
       "      <td>82774522.3</td>\n",
       "      <td>137135031.8</td>\n",
       "    </tr>\n",
       "    <tr>\n",
       "      <th>528</th>\n",
       "      <td>0.0</td>\n",
       "      <td>0.0</td>\n",
       "      <td>0.0</td>\n",
       "      <td>0.0</td>\n",
       "    </tr>\n",
       "    <tr>\n",
       "      <th>529</th>\n",
       "      <td>0.0</td>\n",
       "      <td>7006.4</td>\n",
       "      <td>79496178.3</td>\n",
       "      <td>529396815.3</td>\n",
       "    </tr>\n",
       "    <tr>\n",
       "      <th>530</th>\n",
       "      <td>0.0</td>\n",
       "      <td>6369.4</td>\n",
       "      <td>11372611.5</td>\n",
       "      <td>11194267.5</td>\n",
       "    </tr>\n",
       "  </tbody>\n",
       "</table>\n",
       "<p>531 rows × 4 columns</p>\n",
       "</div>"
      ],
      "text/plain": [
       "            ml_score     capital        income      outcome\n",
       "Unnamed: 0                                                 \n",
       "0                0.0 629400000.0  3475461146.5 5476906369.4\n",
       "1                0.0   1345859.9   156347770.7   66164968.2\n",
       "2                5.5  19644586.0   228049681.5  123771337.6\n",
       "3                0.0  20382165.6  5362189808.9 2522167515.9\n",
       "4                2.0    595541.4 11246701273.9 3855060509.6\n",
       "...              ...         ...           ...          ...\n",
       "526              0.0      6369.4    25662420.4   49657961.8\n",
       "527              0.0 240643312.1    82774522.3  137135031.8\n",
       "528              0.0         0.0           0.0          0.0\n",
       "529              0.0      7006.4    79496178.3  529396815.3\n",
       "530              0.0      6369.4    11372611.5   11194267.5\n",
       "\n",
       "[531 rows x 4 columns]"
      ]
     },
     "metadata": {},
     "output_type": "display_data"
    }
   ],
   "source": [
    "\n",
    "\n",
    "renamed_headers = [translit(x,'ru', reversed=True) for x in df_2019.columns]\n",
    "ren = dict(zip(df_2019.columns, renamed_headers))\n",
    "df_2019.rename(columns=ren, inplace=True)\n",
    "df_2019.rename(columns=lambda x: x.replace('.', ''), inplace=True)\n",
    "df_2019.rename(columns = lambda x:re.sub('[^A-Za-z0-9_]+', '', x), inplace=True)\n",
    "\n",
    "df_2019 = df_2019[\n",
    "    [\"SredPDZza2019goddnej\", \n",
    "     \"2018UstavnyjkapitalRUB\", \n",
    "     \"2018DebitorskajazadolzhennostRUB\",\n",
    "    \"2018KreditorskajazadolzhennostRUB\"]]\n",
    "\n",
    "df_2019.rename(columns={'SredPDZza2019goddnej': 'ml_score', \n",
    "                         '2018UstavnyjkapitalRUB': 'capital',\n",
    "                        '2018DebitorskajazadolzhennostRUB': 'income',\n",
    "                        '2018KreditorskajazadolzhennostRUB': 'outcome',}, inplace=True)\n",
    "\n",
    "\n",
    "display(df_2019)"
   ]
  },
  {
   "cell_type": "code",
   "execution_count": null,
   "id": "29b3a760",
   "metadata": {},
   "outputs": [],
   "source": []
  },
  {
   "cell_type": "markdown",
   "id": "ca27e126",
   "metadata": {},
   "source": [
    "### Обучаем lgbm для предсказания скора поставщика. В качестве скора сейчас берем средний ПДЗ"
   ]
  },
  {
   "cell_type": "code",
   "execution_count": 8,
   "id": "f6cac8c7",
   "metadata": {},
   "outputs": [
    {
     "name": "stdout",
     "output_type": "stream",
     "text": [
      "[LightGBM] [Warning] Auto-choosing col-wise multi-threading, the overhead of testing was 0.000191 seconds.\n",
      "You can set `force_col_wise=true` to remove the overhead.\n",
      "Training until validation scores don't improve for 20 rounds\n",
      "Early stopping, best iteration is:\n",
      "[1]\tvalid_0's l1: 12.4013\tvalid_0's l2: 2917.25\n"
     ]
    }
   ],
   "source": [
    "X = df_2019.drop(['ml_score'], axis=1)\n",
    "y = df_2019['ml_score']\n",
    "\n",
    "X_train, X_test, y_train, y_test = train_test_split(X, y, test_size=0.25, random_state=42)\n",
    "\n",
    "lgb_train = lgb.Dataset(X_train, y_train)\n",
    "lgb_eval = lgb.Dataset(X_test, y_test, reference=lgb_train)\n",
    "\n",
    "# specify your configurations as a dict\n",
    "params = {\n",
    "    'boosting_type': 'gbdt',\n",
    "    'objective': 'regression',\n",
    "    'metric': {'l2', 'l1'},\n",
    "    'num_leaves': 10,\n",
    "    'learning_rate': 0.05,\n",
    "    'feature_fraction': 0.8,\n",
    "    'bagging_fraction': 0.7,\n",
    "    'bagging_freq': 5,\n",
    "    'verbose': 0\n",
    "}\n",
    "\n",
    "gbm = lgb.train(params,\n",
    "                lgb_train,\n",
    "                num_boost_round=2000,\n",
    "                valid_sets=lgb_eval,\n",
    "                callbacks=[lgb.early_stopping(stopping_rounds=20)])\n"
   ]
  },
  {
   "cell_type": "markdown",
   "id": "e8d3b587",
   "metadata": {},
   "source": [
    "### Сохраняем LGBM модель"
   ]
  },
  {
   "cell_type": "code",
   "execution_count": 9,
   "id": "94fc17ed",
   "metadata": {},
   "outputs": [
    {
     "data": {
      "text/plain": [
       "<lightgbm.basic.Booster at 0x294a6434a90>"
      ]
     },
     "execution_count": 9,
     "metadata": {},
     "output_type": "execute_result"
    }
   ],
   "source": [
    "gbm.save_model('ranker.1txt')"
   ]
  },
  {
   "cell_type": "markdown",
   "id": "211c750e",
   "metadata": {},
   "source": [
    "### Используем модель для ранжирования"
   ]
  },
  {
   "cell_type": "code",
   "execution_count": 11,
   "id": "361832f3",
   "metadata": {},
   "outputs": [
    {
     "name": "stdout",
     "output_type": "stream",
     "text": [
      "              capital        income       outcome  ml_score\n",
      "Unnamed: 0                                                 \n",
      "360        63694267.5    39092356.7   125649044.6       6.4\n",
      "182        27354140.1    72092993.6    95193630.6       6.4\n",
      "155         2165605.1    20031847.1   154303184.7       6.4\n",
      "489        31847133.8    21989172.0   143550955.4       6.4\n",
      "444         3375796.2    80597452.2   146349044.6       6.4\n",
      "...               ...           ...           ...       ...\n",
      "30          2325477.7 22601311465.0 10992786624.2       7.5\n",
      "446            6369.4   799566242.0  1035837579.6       7.5\n",
      "347          191082.8  1478921656.1  3255275159.2       7.5\n",
      "89            12738.9  1525047133.8   613883439.5       7.5\n",
      "10          5335668.8 24092142675.2 25141844586.0       7.5\n",
      "\n",
      "[133 rows x 4 columns]\n"
     ]
    }
   ],
   "source": [
    "def rank_companies(pd):\n",
    "    # As input we shoud get pandas table \n",
    "    # with columns 'a', 'b', 'c',\n",
    "    # which are \"Ustavnyj kapital\", \"Pribyl ubytok do nalogooblozhenija\",\" Pribyl ubytok ot prodazhi\"\n",
    "    import lightgbm as lgb\n",
    "    gbm = lgb.Booster(model_file='ranker.1txt')\n",
    "    y_pred = gbm.predict(pd, num_iteration=gbm.best_iteration)\n",
    "    pd['ml_score'] = y_pred\n",
    "    pd.sort_values('ml_score', inplace=True)\n",
    "    \n",
    "    return pd\n",
    "\n",
    "\n",
    "test_table = X_test.copy()\n",
    "\n",
    "ranked_table = rank_companies(test_table)\n",
    "print(ranked_table)"
   ]
  },
  {
   "cell_type": "markdown",
   "id": "82513a1a",
   "metadata": {},
   "source": [
    "## Raspberry Pi ranker version\n",
    "\n",
    "Используем сильно упрощенную модель - linear regression for raspberrypi deployment"
   ]
  },
  {
   "cell_type": "code",
   "execution_count": 13,
   "id": "f3a1d642",
   "metadata": {},
   "outputs": [
    {
     "name": "stdout",
     "output_type": "stream",
     "text": [
      "\n",
      "The RMSE of train prediction is: 17.873572318327966\n"
     ]
    }
   ],
   "source": [
    "from sklearn import linear_model\n",
    "from sklearn.metrics import mean_squared_error\n",
    "import pickle\n",
    "\n",
    "regr = linear_model.LinearRegression()\n",
    "regr.fit(X_train, y_train)\n",
    "\n",
    "y_pred = regr.predict(X_train)\n",
    "rmse_test = mean_squared_error(y_train, y_pred) ** 0.5\n",
    "print(f'\\nThe RMSE of train prediction is: {rmse_test}')\n",
    "\n",
    "\n",
    "filename = 'ranker.sav'\n",
    "pickle.dump(regr, open(filename, 'wb'))"
   ]
  },
  {
   "cell_type": "markdown",
   "id": "b7178ccf",
   "metadata": {},
   "source": [
    "Используем модель для ранжирования на raspberrypi"
   ]
  },
  {
   "cell_type": "code",
   "execution_count": 14,
   "id": "5590a54b",
   "metadata": {},
   "outputs": [
    {
     "name": "stdout",
     "output_type": "stream",
     "text": [
      "               capital        income       outcome  pdz\n",
      "Unnamed: 0                                             \n",
      "79         979530573.2  4138320382.2   954787898.1  4.9\n",
      "272        636942675.2    27233121.0    23952866.2  5.0\n",
      "421             5095.5   137837579.6     8417834.4  5.0\n",
      "176         44598726.1    96370063.7     7832484.1  5.0\n",
      "149             6369.4   245917834.4    53379617.8  5.0\n",
      "...                ...           ...           ...  ...\n",
      "210          6369426.8  9301021019.1 15657389808.9 22.1\n",
      "10           5335668.8 24092142675.2 25141844586.0 29.7\n",
      "84         100792993.6 39324887261.1 32781867515.9 34.8\n",
      "369         25165605.1 32246499363.1 35160301910.8 40.0\n",
      "195        229988535.0 34087083439.5 42629309554.1 48.8\n",
      "\n",
      "[133 rows x 4 columns]\n"
     ]
    }
   ],
   "source": [
    "def rank_companies_pi(pd):\n",
    "    # As input we shoud get pandas table \n",
    "    # with columns 'a', 'b', 'c',\n",
    "    # which are \"Ustavnyj kapital\", \"Pribyl ubytok do nalogooblozhenija\",\" Pribyl ubytok ot prodazhi\"\n",
    "    from sklearn import linear_model\n",
    "    import pickle\n",
    "    regr = pickle.load(open('ranker.sav', 'rb'))\n",
    "\n",
    "    y_pred = regr.predict(pd)\n",
    "    pd['pdz'] = y_pred\n",
    "    pd.sort_values('pdz', inplace=True)\n",
    "    \n",
    "    return pd\n",
    "\n",
    "\n",
    "test_table = X_test.copy()\n",
    "\n",
    "ranked_table = rank_companies_pi(test_table)\n",
    "print(ranked_table)"
   ]
  },
  {
   "cell_type": "code",
   "execution_count": null,
   "id": "1513bad6",
   "metadata": {},
   "outputs": [],
   "source": []
  }
 ],
 "metadata": {
  "kernelspec": {
   "display_name": "Python 3 (ipykernel)",
   "language": "python",
   "name": "python3"
  },
  "language_info": {
   "codemirror_mode": {
    "name": "ipython",
    "version": 3
   },
   "file_extension": ".py",
   "mimetype": "text/x-python",
   "name": "python",
   "nbconvert_exporter": "python",
   "pygments_lexer": "ipython3",
   "version": "3.9.0"
  }
 },
 "nbformat": 4,
 "nbformat_minor": 5
}
