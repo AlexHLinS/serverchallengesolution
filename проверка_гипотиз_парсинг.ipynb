{
 "cells": [
  {
   "cell_type": "code",
   "execution_count": 20,
   "metadata": {},
   "outputs": [],
   "source": [
    "import requests\n",
    "from dadata import Dadata"
   ]
  },
  {
   "cell_type": "code",
   "execution_count": 24,
   "metadata": {},
   "outputs": [],
   "source": [
    "with open('dadata.token') as dadatatokenfile:\n",
    "    token = dadatatokenfile.read()\n",
    "dadata = Dadata(token)"
   ]
  },
  {
   "cell_type": "code",
   "execution_count": 29,
   "metadata": {},
   "outputs": [],
   "source": [
    "result = dadata.suggest(\"party\", \"северсталь\")"
   ]
  },
  {
   "cell_type": "code",
   "execution_count": 40,
   "metadata": {},
   "outputs": [
    {
     "name": "stdout",
     "output_type": "stream",
     "text": [
      "ПАО \"СЕВЕРСТАЛЬ\", 3528000597\n",
      "ОАО \"СЕВЕРСТАЛЬ-МЕТИЗ\", 3528090760\n",
      "АО \"АЛС\", 3528103017\n",
      "ЗАО \"СЕВЕРСТАЛЬСТРОЙХИМ\", 3528002763\n",
      "ЗАО \"ЗЕМЛЕДЕЛЕЦ-СЕВЕРСТАЛЬ\", 3520003476\n",
      "АО \"СЕВЕРСТАЛЬ ДИСТРИБУЦИЯ\", 3528015184\n",
      "АО \"СЕВЕРСТАЛЬ-ИНФОКОМ\", 3528007105\n",
      "АО \"СЕВЕРСТАЛЬ КАНАТЫ\", 3528219741\n",
      "АО \"СЕВЕРСТАЛЬ МЕНЕДЖМЕНТ\", 7713505053\n",
      "АО \"СЕВЕРСТАЛЬ ПЛАТФОРМА\", 3528036321\n"
     ]
    }
   ],
   "source": [
    "for item in result:\n",
    "    #print(item)\n",
    "    print(f\"{item['value']}, {item['data']['inn']}\")"
   ]
  },
  {
   "cell_type": "code",
   "execution_count": null,
   "metadata": {},
   "outputs": [],
   "source": [
    "import selenium\n"
   ]
  }
 ],
 "metadata": {
  "interpreter": {
   "hash": "31f2aee4e71d21fbe5cf8b01ff0e069b9275f58929596ceb00d14d90e3e16cd6"
  },
  "kernelspec": {
   "display_name": "Python 3.8.9 64-bit",
   "language": "python",
   "name": "python3"
  },
  "language_info": {
   "codemirror_mode": {
    "name": "ipython",
    "version": 3
   },
   "file_extension": ".py",
   "mimetype": "text/x-python",
   "name": "python",
   "nbconvert_exporter": "python",
   "pygments_lexer": "ipython3",
   "version": "3.8.5"
  },
  "orig_nbformat": 4
 },
 "nbformat": 4,
 "nbformat_minor": 2
}
