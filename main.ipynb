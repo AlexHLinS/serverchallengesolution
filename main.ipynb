{
 "cells": [
  {
   "cell_type": "code",
   "execution_count": 1,
   "metadata": {},
   "outputs": [],
   "source": [
    "import requests\n",
    "from bs4 import BeautifulSoup as bs\n",
    "import json\n",
    "\n",
    "GET_INN_URL = 'https://yandex.ru/search/?text='\n",
    "EGRUL_URL = 'https://egrul.itsoft.ru/'\n",
    "REPUTATION_URL = 'https://vbankcenter.ru/contragent/'\n",
    "\n",
    "\n",
    "def get_company_list_by_product_metalloprokat(product_name):\n",
    "    resut = json.dumps({})\n",
    "\n",
    "    TARGET_URL = 'https://www.metalloprokat.ru/company/?q='\n",
    "    \n",
    "    site_raw = requests.get(TARGET_URL+product_name).text\n",
    "    parsed = bs(site_raw, features='lxml')\n",
    "    comp_count = int(parsed.find_all('div', {'id': 'tabs'})[\n",
    "                 0].find_all('span', {'class': 'count'})[1].text)\n",
    "\n",
    "    if comp_count < 1:\n",
    "        return resut\n",
    "    \n",
    "    companies = parsed.find_all('div', {'class': 'title'})\n",
    "\n",
    "    sellers = dict()\n",
    "\n",
    "    for company in companies:\n",
    "        try:\n",
    "            seller_name = company.find_all('a')[0].text[1:-1]\n",
    "            sellers[seller_name] = []\n",
    "            sellers[seller_name].append(company.find_all('a')[0]['href'])\n",
    "        except:\n",
    "            pass\n",
    "\n",
    "    reviews = parsed.find_all('li', {'class': 'links_comment item medium float-left clearfix'})\n",
    "    for review in reviews:\n",
    "        try:\n",
    "            print(review.a['data-href'])\n",
    "        except:\n",
    "            pass\n",
    "\n",
    "\n",
    "    for seller in sellers:\n",
    "        try:\n",
    "            raw_for_inn = requests.get(GET_INN_URL+seller+'+ИНН').text\n",
    "            parsed = bs(raw_for_inn, features='lxml')\n",
    "            inn = parsed.find_all('div', {'class': 'serp-list serp-list_right_yes serp-list_complementary_yes'})[\n",
    "                0].find_all('div', {'class': 'KeyValue-ItemValue'})[0].text\n",
    "            sellers[seller].append(inn)\n",
    "            sellers[seller].append(json.loads(\n",
    "                requests.get(EGRUL_URL+inn+'.json').text))\n",
    "        except:\n",
    "            pass\n",
    "\n",
    "    resut = json.dumps(sellers)\n",
    "    \n",
    "    return resut\n",
    "\n",
    "\n",
    "\n",
    "def get_company_list_by_product(product_name):\n",
    "\n",
    "    json_res = get_company_list_by_product_metalloprokat(product_name)\n",
    "    with open(product_name+'.txt', 'w') as rfile:\n",
    "        rfile.write(json_res)\n",
    "    pass\n",
    "\n"
   ]
  },
  {
   "cell_type": "code",
   "execution_count": 2,
   "metadata": {},
   "outputs": [
    {
     "name": "stdout",
     "output_type": "stream",
     "text": [
      "https://snabtechmet.metalloprokat.ru/reviews\n",
      "https://bcm-metall.metalloprokat.ru/reviews\n",
      "https://intermetprom.metalloprokat.ru/reviews\n",
      "https://promresurs-chel.metalloprokat.ru/reviews\n",
      "https://aviapromsteel.metalloprokat.ru/reviews\n",
      "https://centrmet-nnov.metalloprokat.ru/reviews\n",
      "https://severnyi-gorod.metalloprokat.ru/reviews\n",
      "https://kaur.metalloprokat.ru/reviews\n",
      "https://teploobmennyetruby.metalloprokat.ru/reviews\n",
      "https://metpromko.metalloprokat.ru/reviews\n",
      "https://mid-stroy.metalloprokat.ru/reviews\n",
      "https://alfa-profi.metalloprokat.ru/reviews\n",
      "https://etalonstal.metalloprokat.ru/reviews\n",
      "https://pkfcvet.metalloprokat.ru/reviews\n",
      "https://potr.metalloprokat.ru/reviews\n",
      "https://velund-stal-gk.metalloprokat.ru/reviews\n",
      "https://petrometallinvest.metalloprokat.ru/reviews\n",
      "https://amr-msk.metalloprokat.ru/reviews\n",
      "https://bvbalyans.metalloprokat.ru/reviews\n",
      "https://specmetallgrupp.metalloprokat.ru/reviews\n"
     ]
    }
   ],
   "source": [
    "req_str = input('Enter request:')\n",
    "get_company_list_by_product(req_str)"
   ]
  }
 ],
 "metadata": {
  "interpreter": {
   "hash": "aee8b7b246df8f9039afb4144a1f6fd8d2ca17a180786b69acc140d282b71a49"
  },
  "kernelspec": {
   "display_name": "Python 3.8.5 64-bit",
   "language": "python",
   "name": "python3"
  },
  "language_info": {
   "codemirror_mode": {
    "name": "ipython",
    "version": 3
   },
   "file_extension": ".py",
   "mimetype": "text/x-python",
   "name": "python",
   "nbconvert_exporter": "python",
   "pygments_lexer": "ipython3",
   "version": "3.8.5"
  },
  "orig_nbformat": 4
 },
 "nbformat": 4,
 "nbformat_minor": 2
}
